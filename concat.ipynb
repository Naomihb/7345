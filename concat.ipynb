{
 "cells": [
  {
   "cell_type": "code",
   "execution_count": 1,
   "metadata": {},
   "outputs": [],
   "source": [
    "#trainModel\n",
    "#cropImages\n",
    "#concatImages\n"
   ]
  },
  {
   "cell_type": "code",
   "execution_count": 7,
   "metadata": {},
   "outputs": [
    {
     "name": "stderr",
     "output_type": "stream",
     "text": [
      "Using TensorFlow backend.\n"
     ]
    }
   ],
   "source": [
    "import cv2\n",
    "%matplotlib inline \n",
    "import matplotlib.pyplot as plt\n",
    "import numpy as np\n",
    "import PIL\n",
    "from PIL import Image \n",
    "import argparse\n",
    "import os\n",
    "import cv2\n",
    "\n",
    "# TensorFlow and tf.keras\n",
    "import tensorflow as tf\n",
    "import keras\n"
   ]
  },
  {
   "cell_type": "code",
   "execution_count": null,
   "metadata": {},
   "outputs": [],
   "source": []
  },
  {
   "cell_type": "code",
   "execution_count": 8,
   "metadata": {},
   "outputs": [],
   "source": [
    "def show_img(img):\n",
    "    plt.imshow(img, cmap='gray', vmin=0, vmax=255)\n",
    "    plt.show()"
   ]
  },
  {
   "cell_type": "code",
   "execution_count": 9,
   "metadata": {},
   "outputs": [],
   "source": [
    "def concat(outfit, name):\n",
    "    for image in outfit:\n",
    "        image.resize((200, 200), PIL.Image.ANTIALIAS)\n",
    "        image = np.array(image)\n",
    "    img = cv2.vconcat(outfit)\n",
    "    img.resize((200, 400), PIL.Image.ANTIALIAS)\n",
    "    matplotlib.image.imsave(name + '.png', img)"
   ]
  },
  {
   "cell_type": "code",
   "execution_count": 10,
   "metadata": {},
   "outputs": [
    {
     "data": {
      "image/png": "[encoded data removed]",
      "text/plain": [
       "<Figure size 432x288 with 1 Axes>"
      ]
     },
     "metadata": {
      "needs_background": "light"
     },
     "output_type": "display_data"
    }
   ],
   "source": [
    "\n",
    "def main():\n",
    "    im_1 = Image.open('clothes/Top/img4.png')\n",
    "    im_2 = Image.open('clothes/Trouser/img2542.png')\n",
    "    im_3 = Image.open('clothes/Ankle-boot/img2224.png')\n",
    "    \n",
    "    im_1 = im_1.resize((200, 200), PIL.Image.ANTIALIAS)\n",
    "    im_2 = im_2.resize((200, 200), PIL.Image.ANTIALIAS)\n",
    "    im_3 = im_3.resize((200, 200), PIL.Image.ANTIALIAS)\n",
    "\n",
    "    im_1 = np.array(im_1)\n",
    "    im_2 = np.array(im_2)\n",
    "    im_3 = np.array(im_3)\n",
    "\n",
    "    #im_1 = im_1.resize(200)\n",
    "    #im_2 = im_2.resize(200)\n",
    "    #im_3 = im_3.resize(200)\n",
    "\n",
    "    list_of_images = []\n",
    "    \n",
    "    list_of_images.append(im_1)\n",
    "    list_of_images.append(im_2)\n",
    "    list_of_images.append(im_3)\n",
    "\n",
    "\n",
    "    img = cv2.vconcat([im_1, im_2,im_3])\n",
    "    \n",
    "\n",
    "    show_img(img)\n",
    "    \n",
    "    import matplotlib \n",
    "\n",
    "    matplotlib.image.imsave('generatedOutfit.png', img)\n",
    "\n",
    "\n",
    "    \n",
    "main()"
   ]
  },
  {
   "cell_type": "code",
   "execution_count": 55,
   "metadata": {},
   "outputs": [
    {
     "name": "stdout",
     "output_type": "stream",
     "text": [
      "Model: \"sequential_2\"\n",
      "_________________________________________________________________\n",
      "Layer (type)                 Output Shape              Param #   \n",
      "=================================================================\n",
      "flatten_2 (Flatten)          (None, 784)               0         \n",
      "_________________________________________________________________\n",
      "dense_3 (Dense)              (None, 128)               100480    \n",
      "_________________________________________________________________\n",
      "dense_4 (Dense)              (None, 10)                1290      \n",
      "=================================================================\n",
      "Total params: 101,770\n",
      "Trainable params: 101,770\n",
      "Non-trainable params: 0\n",
      "_________________________________________________________________\n"
     ]
    }
   ],
   "source": [
    "# load model\n",
    "#model = load_model(\"model.h5\") \n",
    "#this shouldn't work. Why did this work? The model was made with keras and not tf.keras\n",
    "#and yet it is the only way to load it. Kera's load model gives a very uninformative key value error\n",
    "model = tf.keras.models.load_model('model.h5')\n",
    "# summarize model.\n",
    "model.summary()"
   ]
  },
  {
   "cell_type": "code",
   "execution_count": null,
   "metadata": {},
   "outputs": [],
   "source": [
    "\n"
   ]
  },
  {
   "cell_type": "code",
   "execution_count": null,
   "metadata": {},
   "outputs": [],
   "source": []
  },
  {
   "cell_type": "code",
   "execution_count": null,
   "metadata": {},
   "outputs": [],
   "source": []
  },
  {
   "cell_type": "code",
   "execution_count": null,
   "metadata": {},
   "outputs": [],
   "source": []
  }
 ],
 "metadata": {
  "kernelspec": {
   "display_name": "Python 3",
   "language": "python",
   "name": "python3"
  },
  "language_info": {
   "codemirror_mode": {
    "name": "ipython",
    "version": 3
   },
   "file_extension": ".py",
   "mimetype": "text/x-python",
   "name": "python",
   "nbconvert_exporter": "python",
   "pygments_lexer": "ipython3",
   "version": "3.7.4"
  }
 },
 "nbformat": 4,
 "nbformat_minor": 2
}
